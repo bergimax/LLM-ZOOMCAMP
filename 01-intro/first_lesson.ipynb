{
 "cells": [
  {
   "cell_type": "code",
   "execution_count": 1,
   "id": "6fa5c19c-30c5-4a72-94f4-3291965660a7",
   "metadata": {},
   "outputs": [],
   "source": [
    "import openai"
   ]
  },
  {
   "cell_type": "code",
   "execution_count": 2,
   "id": "67d774cd-a265-476c-9e7e-2d6514ca907f",
   "metadata": {},
   "outputs": [],
   "source": [
    "from openai import OpenAI"
   ]
  },
  {
   "cell_type": "code",
   "execution_count": 1,
   "id": "24cfcc69-b25d-4ef3-8f84-17b453f83f7a",
   "metadata": {},
   "outputs": [
    {
     "ename": "NameError",
     "evalue": "name 'OpenAI' is not defined",
     "output_type": "error",
     "traceback": [
      "\u001b[0;31m---------------------------------------------------------------------------\u001b[0m",
      "\u001b[0;31mNameError\u001b[0m                                 Traceback (most recent call last)",
      "Cell \u001b[0;32mIn[1], line 1\u001b[0m\n\u001b[0;32m----> 1\u001b[0m client \u001b[38;5;241m=\u001b[39m \u001b[43mOpenAI\u001b[49m()\n",
      "\u001b[0;31mNameError\u001b[0m: name 'OpenAI' is not defined"
     ]
    }
   ],
   "source": [
    "client = OpenAI()"
   ]
  },
  {
   "cell_type": "code",
   "execution_count": 10,
   "id": "60d76fd1-517b-449e-a864-63e75d70109d",
   "metadata": {},
   "outputs": [],
   "source": [
    "response= client.chat.completions.create(\n",
    "    model='gpt-4o',\n",
    "    messages=[{'role': 'user', 'content': 'is it too late to join the course?'}]\n",
    ")"
   ]
  },
  {
   "cell_type": "code",
   "execution_count": 11,
   "id": "eb18caff-124f-446c-8c29-b4d54418cb45",
   "metadata": {},
   "outputs": [
    {
     "data": {
      "text/plain": [
       "ChatCompletion(id='chatcmpl-9c6Yxuq2Kil8bEbKc6dmWr8BHGxcB', choices=[Choice(finish_reason='stop', index=0, logprobs=None, message=ChatCompletionMessage(content=\"The answer to whether it's too late to join a course depends on the specific details of the course in question. Here are a few factors to consider:\\n\\n1. **Enrollment Period**: Check the course's official website or contact the administration to find out the enrollment deadlines. Some courses have a strict enrollment period, while others may allow late entries.\\n\\n2. **Course Progression**: Determine how far along the course is. If it's well underway, you may need to catch up on missed material, which could be challenging.\\n\\n3. **Prerequisites**: Consider whether you have met all the prerequisite requirements. Some courses expect students to have prior knowledge or skills.\\n\\n4. **Availability of Materials**: Verify if the course materials (lectures, readings, assignments) are accessible online, and if so, whether you have sufficient time to catch up.\\n\\n5. **Instructor Permission**: Sometimes, instructors may allow late enrollment if you seek their permission and demonstrate that you are capable of catching up.\\n\\n6. **Additional Support**: See if there are any additional resources such as tutors, study groups, or office hours that can help you catch up quickly.\\n\\nIt’s best to reach out directly to the institution or course provider for the most accurate and personalized information.\", role='assistant', function_call=None, tool_calls=None))], created=1718868719, model='gpt-4o-2024-05-13', object='chat.completion', service_tier=None, system_fingerprint='fp_f4e629d0a5', usage=CompletionUsage(completion_tokens=253, prompt_tokens=16, total_tokens=269))"
      ]
     },
     "execution_count": 11,
     "metadata": {},
     "output_type": "execute_result"
    }
   ],
   "source": [
    "response"
   ]
  },
  {
   "cell_type": "code",
   "execution_count": 12,
   "id": "69e3de04-9cdb-4ed5-aa75-8a7a9ab2ca98",
   "metadata": {},
   "outputs": [
    {
     "data": {
      "text/plain": [
       "\"The answer to whether it's too late to join a course depends on the specific details of the course in question. Here are a few factors to consider:\\n\\n1. **Enrollment Period**: Check the course's official website or contact the administration to find out the enrollment deadlines. Some courses have a strict enrollment period, while others may allow late entries.\\n\\n2. **Course Progression**: Determine how far along the course is. If it's well underway, you may need to catch up on missed material, which could be challenging.\\n\\n3. **Prerequisites**: Consider whether you have met all the prerequisite requirements. Some courses expect students to have prior knowledge or skills.\\n\\n4. **Availability of Materials**: Verify if the course materials (lectures, readings, assignments) are accessible online, and if so, whether you have sufficient time to catch up.\\n\\n5. **Instructor Permission**: Sometimes, instructors may allow late enrollment if you seek their permission and demonstrate that you are capable of catching up.\\n\\n6. **Additional Support**: See if there are any additional resources such as tutors, study groups, or office hours that can help you catch up quickly.\\n\\nIt’s best to reach out directly to the institution or course provider for the most accurate and personalized information.\""
      ]
     },
     "execution_count": 12,
     "metadata": {},
     "output_type": "execute_result"
    }
   ],
   "source": [
    "response.choices[0].message.content"
   ]
  },
  {
   "cell_type": "code",
   "execution_count": null,
   "id": "34f80bf1-6f91-4eee-8978-045d975b9689",
   "metadata": {},
   "outputs": [],
   "source": []
  }
 ],
 "metadata": {
  "kernelspec": {
   "display_name": "Python 3 (ipykernel)",
   "language": "python",
   "name": "python3"
  },
  "language_info": {
   "codemirror_mode": {
    "name": "ipython",
    "version": 3
   },
   "file_extension": ".py",
   "mimetype": "text/x-python",
   "name": "python",
   "nbconvert_exporter": "python",
   "pygments_lexer": "ipython3",
   "version": "3.10.13"
  }
 },
 "nbformat": 4,
 "nbformat_minor": 5
}
